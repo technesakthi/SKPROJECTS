{
 "cells": [
  {
   "metadata": {
    "ExecuteTime": {
     "end_time": "2025-06-21T15:58:06.124923Z",
     "start_time": "2025-06-21T15:58:02.015799Z"
    }
   },
   "cell_type": "code",
   "source": [
    "import pandas as pd\n",
    "import numpy as np\n",
    "import warnings\n",
    "warnings.filterwarnings(\"ignore\")\n",
    "\n",
    "from sklearn.ensemble import RandomForestClassifier\n",
    "from sklearn.model_selection import train_test_split\n",
    "from sklearn.metrics import classification_report, confusion_matrix\n",
    "import pickle\n",
    "\n",
    "# 1. Load and clean the dataset\n",
    "df = pd.read_csv(\"weather_hourly.csv\")\n",
    "\n",
    "# 2. Create binary label for rain\n",
    "df['Rain'] = df['Precip Type'].apply(lambda x: 1 if str(x).lower() == 'rain' else 0)\n",
    "\n",
    "# 3. Drop unnecessary columns\n",
    "df.drop(columns=['Formatted Date', 'Summary', 'Precip Type', 'Daily Summary', 'Loud Cover', 'Wind Bearing (degrees)'], inplace=True)\n",
    "\n",
    "# 4. Drop missing values (optional depending on dataset)\n",
    "df.dropna(inplace=True)\n",
    "\n",
    "# 5. Define features and label\n",
    "features = ['Temperature (C)', 'Apparent Temperature (C)', 'Humidity', \n",
    "            'Wind Speed (km/h)', 'Pressure (millibars)', 'Visibility (km)']\n",
    "label = 'Rain'\n",
    "\n",
    "print(\"📊 Original class counts:\\n\", df[label].value_counts())\n",
    "\n",
    "# 6. Balance the dataset using undersampling\n",
    "rain_df = df[df[label] == 1].sample(n=10712, random_state=42)\n",
    "norain_df = df[df[label] == 0]  # already 10712\n",
    "\n",
    "balanced_df = pd.concat([rain_df, norain_df]).sample(frac=1, random_state=42)  # shuffle\n",
    "\n",
    "print(\"\\n✅ Balanced class counts:\\n\", balanced_df[label].value_counts())\n",
    "\n",
    "# 7. Prepare training data\n",
    "X = balanced_df[features]\n",
    "y = balanced_df[label]\n",
    "\n",
    "# 8. Train/test split\n",
    "X_train, X_test, y_train, y_test = train_test_split(X, y, test_size=0.2, random_state=42)\n",
    "\n",
    "# 9. Train Random Forest model\n",
    "model = RandomForestClassifier(n_estimators=100, random_state=42)\n",
    "model.fit(X_train, y_train)\n",
    "\n",
    "# 10. Evaluate model\n",
    "y_pred = model.predict(X_test)\n",
    "print(\"\\n📊 Classification Report:\\n\", classification_report(y_test, y_pred))\n",
    "print(\"\\n🧩 Confusion Matrix:\\n\", confusion_matrix(y_test, y_pred))\n",
    "\n",
    "# 11. Save model\n",
    "with open(\"model/rain_classifier.pkl\", \"wb\") as f:\n",
    "    pickle.dump(model, f)\n",
    "print(\"\\n✅ Model trained and saved to model/rain_classifier.pkl\")\n",
    "\n",
    "# 12. Test predictions\n",
    "test_cases = [\n",
    "    {'Temperature (C)': 30, 'Apparent Temperature (C)': 32, 'Humidity': 0.85, 'Wind Speed (km/h)': 10, 'Pressure (millibars)': 1012, 'Visibility (km)': 8},\n",
    "    {'Temperature (C)': 24, 'Apparent Temperature (C)': 24, 'Humidity': 0.4, 'Wind Speed (km/h)': 5, 'Pressure (millibars)': 1020, 'Visibility (km)': 15},\n",
    "    {'Temperature (C)': 19, 'Apparent Temperature (C)': 18, 'Humidity': 0.9, 'Wind Speed (km/h)': 15, 'Pressure (millibars)': 1005, 'Visibility (km)': 5},\n",
    "    {'Temperature (C)': 10, 'Apparent Temperature (C)': 9, 'Humidity': 0.3, 'Wind Speed (km/h)': 5, 'Pressure (millibars)': 1025, 'Visibility (km)': 16},\n",
    "    {'Temperature (C)': 22, 'Apparent Temperature (C)': 22, 'Humidity': 0.75, 'Wind Speed (km/h)': 12, 'Pressure (millibars)': 1008, 'Visibility (km)': 7},\n",
    "    {'Temperature (C)': 28, 'Apparent Temperature (C)': 29, 'Humidity': 0.2, 'Wind Speed (km/h)': 2, 'Pressure (millibars)': 1030, 'Visibility (km)': 18},\n",
    "    {'Temperature (C)': 15, 'Apparent Temperature (C)': 13, 'Humidity': 0.95, 'Wind Speed (km/h)': 5, 'Pressure (millibars)': 1003, 'Visibility (km)': 6},\n",
    "    {'Temperature (C)': 33, 'Apparent Temperature (C)': 35, 'Humidity': 0.5, 'Wind Speed (km/h)': 20, 'Pressure (millibars)': 1010, 'Visibility (km)': 10},\n",
    "    {'Temperature (C)': 17, 'Apparent Temperature (C)': 16, 'Humidity': 0.8, 'Wind Speed (km/h)': 8, 'Pressure (millibars)': 1015, 'Visibility (km)': 9},\n",
    "    {'Temperature (C)': 25, 'Apparent Temperature (C)': 25, 'Humidity': 0.6, 'Wind Speed (km/h)': 10, 'Pressure (millibars)': 1022, 'Visibility (km)': 12},\n",
    "    {'Temperature (C)': 36, 'Apparent Temperature (C)': 37, 'Humidity': 0.1, 'Wind Speed (km/h)': 2, 'Pressure (millibars)': 1040, 'Visibility (km)': 20},\n",
    "    {'Temperature (C)': 38, 'Apparent Temperature (C)': 39, 'Humidity': 0.15, 'Wind Speed (km/h)': 6, 'Pressure (millibars)': 1035, 'Visibility (km)': 22},\n",
    "    {'Temperature (C)': 21, 'Apparent Temperature (C)': 20, 'Humidity': 0.3, 'Wind Speed (km/h)': 8, 'Pressure (millibars)': 1025, 'Visibility (km)': 19},\n",
    "]\n",
    "\n",
    "print(\"\\n🌦 Prediction Results:\")\n",
    "for i, case in enumerate(test_cases, 1):\n",
    "    prediction = model.predict(pd.DataFrame([case]))[0]\n",
    "    status = \"🌧 Rain Likely\" if prediction == 1 else \"☀️ No Rain\"\n",
    "    print(f\"Test Case {i}: {case} → Prediction: {status}\")\n"
   ],
   "id": "64de3fb023175030",
   "outputs": [
    {
     "name": "stdout",
     "output_type": "stream",
     "text": [
      "📊 Original class counts:\n",
      " Rain\n",
      "1    85224\n",
      "0    11229\n",
      "Name: count, dtype: int64\n",
      "\n",
      "✅ Balanced class counts:\n",
      " Rain\n",
      "0    11229\n",
      "1    10712\n",
      "Name: count, dtype: int64\n",
      "\n",
      "📊 Classification Report:\n",
      "               precision    recall  f1-score   support\n",
      "\n",
      "           0       1.00      0.98      0.99      2207\n",
      "           1       0.98      1.00      0.99      2182\n",
      "\n",
      "    accuracy                           0.99      4389\n",
      "   macro avg       0.99      0.99      0.99      4389\n",
      "weighted avg       0.99      0.99      0.99      4389\n",
      "\n",
      "\n",
      "🧩 Confusion Matrix:\n",
      " [[2153   54]\n",
      " [   3 2179]]\n",
      "\n",
      "✅ Model trained and saved to model/rain_classifier.pkl\n",
      "\n",
      "🌦 Prediction Results:\n",
      "Test Case 1: {'Temperature (C)': 30, 'Apparent Temperature (C)': 32, 'Humidity': 0.85, 'Wind Speed (km/h)': 10, 'Pressure (millibars)': 1012, 'Visibility (km)': 8} → Prediction: 🌧 Rain Likely\n",
      "Test Case 2: {'Temperature (C)': 24, 'Apparent Temperature (C)': 24, 'Humidity': 0.4, 'Wind Speed (km/h)': 5, 'Pressure (millibars)': 1020, 'Visibility (km)': 15} → Prediction: 🌧 Rain Likely\n",
      "Test Case 3: {'Temperature (C)': 19, 'Apparent Temperature (C)': 18, 'Humidity': 0.9, 'Wind Speed (km/h)': 15, 'Pressure (millibars)': 1005, 'Visibility (km)': 5} → Prediction: 🌧 Rain Likely\n",
      "Test Case 4: {'Temperature (C)': 10, 'Apparent Temperature (C)': 9, 'Humidity': 0.3, 'Wind Speed (km/h)': 5, 'Pressure (millibars)': 1025, 'Visibility (km)': 16} → Prediction: 🌧 Rain Likely\n",
      "Test Case 5: {'Temperature (C)': 22, 'Apparent Temperature (C)': 22, 'Humidity': 0.75, 'Wind Speed (km/h)': 12, 'Pressure (millibars)': 1008, 'Visibility (km)': 7} → Prediction: 🌧 Rain Likely\n",
      "Test Case 6: {'Temperature (C)': 28, 'Apparent Temperature (C)': 29, 'Humidity': 0.2, 'Wind Speed (km/h)': 2, 'Pressure (millibars)': 1030, 'Visibility (km)': 18} → Prediction: 🌧 Rain Likely\n",
      "Test Case 7: {'Temperature (C)': 15, 'Apparent Temperature (C)': 13, 'Humidity': 0.95, 'Wind Speed (km/h)': 5, 'Pressure (millibars)': 1003, 'Visibility (km)': 6} → Prediction: 🌧 Rain Likely\n",
      "Test Case 8: {'Temperature (C)': 33, 'Apparent Temperature (C)': 35, 'Humidity': 0.5, 'Wind Speed (km/h)': 20, 'Pressure (millibars)': 1010, 'Visibility (km)': 10} → Prediction: 🌧 Rain Likely\n",
      "Test Case 9: {'Temperature (C)': 17, 'Apparent Temperature (C)': 16, 'Humidity': 0.8, 'Wind Speed (km/h)': 8, 'Pressure (millibars)': 1015, 'Visibility (km)': 9} → Prediction: 🌧 Rain Likely\n",
      "Test Case 10: {'Temperature (C)': 25, 'Apparent Temperature (C)': 25, 'Humidity': 0.6, 'Wind Speed (km/h)': 10, 'Pressure (millibars)': 1022, 'Visibility (km)': 12} → Prediction: 🌧 Rain Likely\n",
      "Test Case 11: {'Temperature (C)': 36, 'Apparent Temperature (C)': 37, 'Humidity': 0.1, 'Wind Speed (km/h)': 2, 'Pressure (millibars)': 1040, 'Visibility (km)': 20} → Prediction: 🌧 Rain Likely\n",
      "Test Case 12: {'Temperature (C)': 38, 'Apparent Temperature (C)': 39, 'Humidity': 0.15, 'Wind Speed (km/h)': 6, 'Pressure (millibars)': 1035, 'Visibility (km)': 22} → Prediction: 🌧 Rain Likely\n",
      "Test Case 13: {'Temperature (C)': 21, 'Apparent Temperature (C)': 20, 'Humidity': 0.3, 'Wind Speed (km/h)': 8, 'Pressure (millibars)': 1025, 'Visibility (km)': 19} → Prediction: 🌧 Rain Likely\n"
     ]
    }
   ],
   "execution_count": 57
  },
  {
   "metadata": {
    "ExecuteTime": {
     "end_time": "2025-06-21T16:00:00.850220Z",
     "start_time": "2025-06-21T16:00:00.758981Z"
    }
   },
   "cell_type": "code",
   "source": [
    "# Sample edge cases\n",
    "test_cases = [\n",
    "    {'Temperature (C)': 40, 'Apparent Temperature (C)': 42, 'Humidity': 0.1, 'Wind Speed (km/h)': 3, 'Pressure (millibars)': 1040, 'Visibility (km)': 20},  # Likely No Rain\n",
    "    {'Temperature (C)': 18, 'Apparent Temperature (C)': 18, 'Humidity': 0.9, 'Wind Speed (km/h)': 10, 'Pressure (millibars)': 1002, 'Visibility (km)': 4},  # Likely Rain\n",
    "]\n",
    "\n",
    "for i, case in enumerate(test_cases, 1):\n",
    "    pred = model.predict(pd.DataFrame([case]))[0]\n",
    "    label = \"🌧 Rain Likely\" if pred == 1 else \"☀️ No Rain Likely\"\n",
    "    print(f\"Test Case {i}: {label}\")\n"
   ],
   "id": "6347d267c636d061",
   "outputs": [
    {
     "name": "stdout",
     "output_type": "stream",
     "text": [
      "Test Case 1: 🌧 Rain Likely\n",
      "Test Case 2: 🌧 Rain Likely\n"
     ]
    }
   ],
   "execution_count": 58
  },
  {
   "metadata": {},
   "cell_type": "code",
   "outputs": [],
   "execution_count": null,
   "source": "",
   "id": "f6edec78f36256f6"
  }
 ],
 "metadata": {
  "kernelspec": {
   "display_name": "Python 3",
   "language": "python",
   "name": "python3"
  },
  "language_info": {
   "codemirror_mode": {
    "name": "ipython",
    "version": 2
   },
   "file_extension": ".py",
   "mimetype": "text/x-python",
   "name": "python",
   "nbconvert_exporter": "python",
   "pygments_lexer": "ipython2",
   "version": "2.7.6"
  }
 },
 "nbformat": 4,
 "nbformat_minor": 5
}
