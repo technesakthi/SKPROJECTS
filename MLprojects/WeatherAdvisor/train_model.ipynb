{
 "cells": [
  {
   "metadata": {
    "ExecuteTime": {
     "end_time": "2025-06-28T14:56:43.004488Z",
     "start_time": "2025-06-28T14:37:33.127479Z"
    }
   },
   "cell_type": "code",
   "source": [
    "import pandas as pd\n",
    "from sklearn.model_selection import train_test_split, GridSearchCV\n",
    "from sklearn.preprocessing import LabelEncoder, StandardScaler\n",
    "from sklearn.ensemble import RandomForestClassifier\n",
    "from sklearn.metrics import classification_report\n",
    "from imblearn.over_sampling import SMOTE\n",
    "\n",
    "# Load dataset\n",
    "df = pd.read_csv(\"weather.csv\")\n",
    "\n",
    "# Select features and label\n",
    "features = ['Humidity3pm', 'Pressure9am', 'Temp3pm', 'Cloud3pm', 'WindSpeed3pm', 'RainToday']\n",
    "df = df[features + ['RainTomorrow', 'Rainfall']]\n",
    "\n",
    "# Drop NaNs\n",
    "df.dropna(inplace=True)\n",
    "\n",
    "# Encode categorical variables\n",
    "le = LabelEncoder()\n",
    "df['RainToday'] = le.fit_transform(df['RainToday'])\n",
    "df['RainTomorrow'] = le.fit_transform(df['RainTomorrow'])\n",
    "\n",
    "# Split features and label\n",
    "X = df[features]\n",
    "y = df['RainTomorrow']\n",
    "\n",
    "# Scale features\n",
    "scaler = StandardScaler()\n",
    "X_scaled = scaler.fit_transform(X)\n",
    "\n",
    "# Apply SMOTE\n",
    "smote = SMOTE(random_state=42)\n",
    "X_resampled, y_resampled = smote.fit_resample(X_scaled, y)\n",
    "\n",
    "# Split balanced data\n",
    "X_train, X_test, y_train, y_test = train_test_split(\n",
    "    X_resampled, y_resampled, test_size=0.2, random_state=42\n",
    ")\n",
    "\n",
    "# Tune with GridSearchCV\n",
    "param_grid = {\n",
    "    'n_estimators': [100, 200],\n",
    "    'max_depth': [5, 10, None],\n",
    "    'min_samples_split': [2, 5],\n",
    "    'min_samples_leaf': [1, 2],\n",
    "    'class_weight': ['balanced']\n",
    "}\n",
    "\n",
    "grid_search = GridSearchCV(\n",
    "    RandomForestClassifier(random_state=42),\n",
    "    param_grid,\n",
    "    scoring='f1',\n",
    "    cv=5,\n",
    "    n_jobs=-1\n",
    ")\n",
    "grid_search.fit(X_train, y_train)\n",
    "\n",
    "# Best model\n",
    "clf = grid_search.best_estimator_\n",
    "print(\"✅ Best Parameters:\", grid_search.best_params_)\n",
    "\n",
    "# Predict and evaluate\n",
    "y_pred = clf.predict(X_test)\n",
    "print(classification_report(y_test, y_pred))\n"
   ],
   "id": "8d936d4577b7e667",
   "outputs": [
    {
     "name": "stdout",
     "output_type": "stream",
     "text": [
      "✅ Best Parameters: {'class_weight': 'balanced', 'max_depth': None, 'min_samples_leaf': 1, 'min_samples_split': 2, 'n_estimators': 200}\n",
      "              precision    recall  f1-score   support\n",
      "\n",
      "           0       0.89      0.88      0.88     12367\n",
      "           1       0.88      0.89      0.89     12469\n",
      "\n",
      "    accuracy                           0.89     24836\n",
      "   macro avg       0.89      0.89      0.89     24836\n",
      "weighted avg       0.89      0.89      0.89     24836\n",
      "\n"
     ]
    }
   ],
   "execution_count": 5
  },
  {
   "metadata": {
    "ExecuteTime": {
     "end_time": "2025-06-28T14:57:56.049495Z",
     "start_time": "2025-06-28T14:57:40.776652Z"
    }
   },
   "cell_type": "code",
   "source": [
    "from sklearn.ensemble import RandomForestRegressor\n",
    "from sklearn.metrics import mean_squared_error, r2_score\n",
    "import numpy as np\n",
    "\n",
    "# Use only rows where it actually rained (RainTomorrow = 1)\n",
    "rain_df = df[df['RainTomorrow'] == 1]\n",
    "\n",
    "X_reg = rain_df[features]\n",
    "y_reg = rain_df['Rainfall']\n",
    "\n",
    "# Scale using same scaler as before\n",
    "X_reg_scaled = scaler.transform(X_reg)\n",
    "\n",
    "# Train-test split for regression\n",
    "X_train_reg, X_test_reg, y_train_reg, y_test_reg = train_test_split(\n",
    "    X_reg_scaled, y_reg, test_size=0.2, random_state=42\n",
    ")\n",
    "\n",
    "# Train regression model\n",
    "reg = RandomForestRegressor(n_estimators=100, random_state=42)\n",
    "reg.fit(X_train_reg, y_train_reg)\n",
    "\n",
    "# Evaluate\n",
    "y_pred_reg = reg.predict(X_test_reg)\n",
    "rmse = np.sqrt(mean_squared_error(y_test_reg, y_pred_reg))\n",
    "r2 = r2_score(y_test_reg, y_pred_reg)\n",
    "print(f\"🌧️ Rainfall RMSE: {rmse:.2f} mm, R² score: {r2:.2f}\")\n"
   ],
   "id": "3cf321b374cb6bfe",
   "outputs": [
    {
     "name": "stdout",
     "output_type": "stream",
     "text": [
      "🌧️ Rainfall RMSE: 13.39 mm, R² score: 0.20\n"
     ]
    }
   ],
   "execution_count": 6
  },
  {
   "metadata": {
    "ExecuteTime": {
     "end_time": "2025-06-28T14:58:14.148100Z",
     "start_time": "2025-06-28T14:58:13.954849Z"
    }
   },
   "cell_type": "code",
   "source": [
    "# Example new input from weather API\n",
    "new_data = {\n",
    "    'Humidity3pm': 85,\n",
    "    'Pressure9am': 1012,\n",
    "    'Temp3pm': 26.5,\n",
    "    'Cloud3pm': 8,\n",
    "    'WindSpeed3pm': 12,\n",
    "    'RainToday': 1  # Yes\n",
    "}\n",
    "\n",
    "# Convert to dataframe and scale\n",
    "X_new = pd.DataFrame([new_data])\n",
    "X_new_scaled = scaler.transform(X_new)\n",
    "\n",
    "# Predict rain / no rain\n",
    "rain_prediction = clf.predict(X_new_scaled)[0]\n",
    "rain_prob = clf.predict_proba(X_new_scaled)[0][1]\n",
    "\n",
    "if rain_prediction == 1:\n",
    "    print(f\"🌧️ Rain expected with {rain_prob * 100:.2f}% probability.\")\n",
    "    predicted_rainfall = reg.predict(X_new_scaled)[0]\n",
    "    print(f\"🌧️ Estimated rainfall: {predicted_rainfall:.2f} mm\")\n",
    "else:\n",
    "    print(f\"☀️ No rain expected. Probability of rain: {rain_prob * 100:.2f}%.\")\n"
   ],
   "id": "8379bfaa59031823",
   "outputs": [
    {
     "name": "stdout",
     "output_type": "stream",
     "text": [
      "🌧️ Rain expected with 98.50% probability.\n",
      "🌧️ Estimated rainfall: 69.50 mm\n"
     ]
    }
   ],
   "execution_count": 7
  },
  {
   "metadata": {
    "ExecuteTime": {
     "end_time": "2025-06-28T15:02:13.581600Z",
     "start_time": "2025-06-28T15:02:11.295699Z"
    }
   },
   "cell_type": "code",
   "source": [
    "import joblib\n",
    "\n",
    "joblib.dump(clf, 'rain_classifier.pkl')\n",
    "joblib.dump(reg, 'rain_regressor.pkl')\n",
    "joblib.dump(scaler, 'scaler.pkl')\n"
   ],
   "id": "f89dad84ee132e9f",
   "outputs": [
    {
     "data": {
      "text/plain": [
       "['scaler.pkl']"
      ]
     },
     "execution_count": 8,
     "metadata": {},
     "output_type": "execute_result"
    }
   ],
   "execution_count": 8
  },
  {
   "metadata": {
    "ExecuteTime": {
     "end_time": "2025-06-28T15:02:31.750071Z",
     "start_time": "2025-06-28T15:02:27.551489Z"
    }
   },
   "cell_type": "code",
   "source": [
    "import pandas as pd\n",
    "import joblib\n",
    "\n",
    "# Load models and scaler\n",
    "clf = joblib.load('rain_classifier.pkl')\n",
    "reg = joblib.load('rain_regressor.pkl')\n",
    "scaler = joblib.load('scaler.pkl')\n",
    "\n",
    "# Define test cases\n",
    "test_cases = [\n",
    "    {\n",
    "        'name': '🌧️ Test Case 1 — Typical Rainy Day',\n",
    "        'data': {\n",
    "            'Humidity3pm': 90, 'Pressure9am': 1007, 'Temp3pm': 22.5,\n",
    "            'Cloud3pm': 7, 'WindSpeed3pm': 20, 'RainToday': 1\n",
    "        }\n",
    "    },\n",
    "    {\n",
    "        'name': '☀️ Test Case 2 — Hot, Clear Day',\n",
    "        'data': {\n",
    "            'Humidity3pm': 25, 'Pressure9am': 1018, 'Temp3pm': 34.0,\n",
    "            'Cloud3pm': 1, 'WindSpeed3pm': 5, 'RainToday': 0\n",
    "        }\n",
    "    },\n",
    "    {\n",
    "        'name': '🌧️ Test Case 3 — Overcast + Low Temp',\n",
    "        'data': {\n",
    "            'Humidity3pm': 88, 'Pressure9am': 1003, 'Temp3pm': 19.0,\n",
    "            'Cloud3pm': 8, 'WindSpeed3pm': 12, 'RainToday': 1\n",
    "        }\n",
    "    },\n",
    "    {\n",
    "        'name': '🌥️ Test Case 4 — Cloudy But Dry',\n",
    "        'data': {\n",
    "            'Humidity3pm': 65, 'Pressure9am': 1012, 'Temp3pm': 25.0,\n",
    "            'Cloud3pm': 6, 'WindSpeed3pm': 15, 'RainToday': 0\n",
    "        }\n",
    "    },\n",
    "    {\n",
    "        'name': '🌧️ Test Case 5 — Stormy-Like Pressure Drop',\n",
    "        'data': {\n",
    "            'Humidity3pm': 95, 'Pressure9am': 998, 'Temp3pm': 20.0,\n",
    "            'Cloud3pm': 8, 'WindSpeed3pm': 28, 'RainToday': 1\n",
    "        }\n",
    "    },\n",
    "    {\n",
    "        'name': '☀️ Test Case 6 — Warm, Low Humidity',\n",
    "        'data': {\n",
    "            'Humidity3pm': 30, 'Pressure9am': 1022, 'Temp3pm': 31.0,\n",
    "            'Cloud3pm': 0, 'WindSpeed3pm': 8, 'RainToday': 0\n",
    "        }\n",
    "    }\n",
    "]\n",
    "\n",
    "# Run all test cases\n",
    "for case in test_cases:\n",
    "    print(f\"\\n🔎 {case['name']}\")\n",
    "    X_new = pd.DataFrame([case['data']])\n",
    "    X_new_scaled = scaler.transform(X_new)\n",
    "\n",
    "    rain_prediction = clf.predict(X_new_scaled)[0]\n",
    "    rain_prob = clf.predict_proba(X_new_scaled)[0][1]\n",
    "\n",
    "    if rain_prediction == 1:\n",
    "        predicted_rainfall = reg.predict(X_new_scaled)[0]\n",
    "        print(f\"🌧️ Rain expected with {rain_prob * 100:.2f}% probability.\")\n",
    "        print(f\"🌧️ Estimated rainfall: {predicted_rainfall:.2f} mm\")\n",
    "    else:\n",
    "        print(f\"☀️ No rain expected. Probability of rain: {rain_prob * 100:.2f}%.\")\n"
   ],
   "id": "d9609dcebf235bd",
   "outputs": [
    {
     "name": "stdout",
     "output_type": "stream",
     "text": [
      "\n",
      "🔎 🌧️ Test Case 1 — Typical Rainy Day\n",
      "🌧️ Rain expected with 91.00% probability.\n",
      "🌧️ Estimated rainfall: 15.81 mm\n",
      "\n",
      "🔎 ☀️ Test Case 2 — Hot, Clear Day\n",
      "☀️ No rain expected. Probability of rain: 1.00%.\n",
      "\n",
      "🔎 🌧️ Test Case 3 — Overcast + Low Temp\n",
      "🌧️ Rain expected with 96.50% probability.\n",
      "🌧️ Estimated rainfall: 24.68 mm\n",
      "\n",
      "🔎 🌥️ Test Case 4 — Cloudy But Dry\n",
      "☀️ No rain expected. Probability of rain: 45.00%.\n",
      "\n",
      "🔎 🌧️ Test Case 5 — Stormy-Like Pressure Drop\n",
      "🌧️ Rain expected with 97.00% probability.\n",
      "🌧️ Estimated rainfall: 42.46 mm\n",
      "\n",
      "🔎 ☀️ Test Case 6 — Warm, Low Humidity\n",
      "☀️ No rain expected. Probability of rain: 6.00%.\n"
     ]
    }
   ],
   "execution_count": 9
  },
  {
   "metadata": {},
   "cell_type": "code",
   "outputs": [],
   "execution_count": null,
   "source": "",
   "id": "813f5d0681b1d262"
  }
 ],
 "metadata": {
  "kernelspec": {
   "display_name": "Python 3",
   "language": "python",
   "name": "python3"
  },
  "language_info": {
   "codemirror_mode": {
    "name": "ipython",
    "version": 2
   },
   "file_extension": ".py",
   "mimetype": "text/x-python",
   "name": "python",
   "nbconvert_exporter": "python",
   "pygments_lexer": "ipython2",
   "version": "2.7.6"
  }
 },
 "nbformat": 4,
 "nbformat_minor": 5
}
